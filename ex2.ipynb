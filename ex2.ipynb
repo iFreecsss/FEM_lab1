{
 "cells": [
  {
   "cell_type": "markdown",
   "metadata": {},
   "source": [
    "# Problem 2"
   ]
  },
  {
   "cell_type": "markdown",
   "metadata": {},
   "source": [
    "We want to look at the eigenvalues and eigenvectors of the discrete Laplacian.\n",
    "\n",
    "The analytic eigenvalues are\n",
    "$$\n",
    "    \\lambda_i=\\frac{\\pi^2}{16}(2i-1)^2\\quad\\text{for }i=1,2,\\ldots\n",
    "$$\n",
    "and the corresponding eigenfunctions are\n",
    "$$\n",
    "    \\phi_i(x)=\\sin(\\sqrt{\\lambda_i}(x+1))\\quad\\text{for }i=1,2,\\ldots.\n",
    "$$\n",
    "These solve the eigenvalue problem\n",
    "$$\n",
    "    \\begin{cases}\n",
    "        -\\phi_i''=\\lambda_i\\phi_i\\quad&\\text{in }\\Omega=(-1,1),\\\\\n",
    "        \\phi_i(-1)=0,\\quad&\\\\\n",
    "        \\phi_i'(1)=0.\\quad&\\\\\n",
    "    \\end{cases}\n",
    "$$"
   ]
  },
  {
   "cell_type": "code",
   "execution_count": null,
   "metadata": {},
   "outputs": [],
   "source": [
    "import numpy as np\n",
    "from matplotlib import pyplot as plt"
   ]
  },
  {
   "cell_type": "markdown",
   "metadata": {},
   "source": [
    "## (a)"
   ]
  },
  {
   "cell_type": "markdown",
   "metadata": {},
   "source": [
    "Compute the eigenvalues of the discrete negative Laplacian and compare them with the analytic ones."
   ]
  },
  {
   "cell_type": "code",
   "execution_count": null,
   "metadata": {},
   "outputs": [],
   "source": [
    "def createmesh1D(h):\n",
    "    \"\"\"\n",
    "    Function to create mesh stuff with mesh-size h for P1-FEM.\n",
    "    You can copy it over from ex 1.\n",
    "    \"\"\"\n",
    "    ...\n",
    "    return grid, elements, endpoints, boundaries\n",
    "\n",
    "def assemble_LHS_poisson(mesh):\n",
    "    \"\"\"\n",
    "    Function to assemble P1-FEM LHS.\n",
    "    You can copy it over from ex 1.\n",
    "    \"\"\"\n",
    "    grid, elements, endpoints, boundaries = mesh\n",
    "    k = len(elements[0]) - 1\n",
    "    ...\n",
    "    mat = np.zeros((len(grid), len(grid)))\n",
    "    for el in elements: # volume terms (must integrate)\n",
    "        ...\n",
    "    for j, b in zip(endpoints, boundaries): # Dirichlet and Robin BCs\n",
    "        # j is index of DoF, b is boundary flag\n",
    "        ...\n",
    "    return mat"
   ]
  },
  {
   "cell_type": "code",
   "execution_count": null,
   "metadata": {},
   "outputs": [],
   "source": [
    "for h in [.01, .001]:\n",
    "    K = assemble_LHS_poisson(createmesh1D(h))\n",
    "    vals = np.linalg.eigvals(K)\n",
    "    ..."
   ]
  },
  {
   "cell_type": "markdown",
   "metadata": {},
   "source": [
    "## (b)"
   ]
  },
  {
   "cell_type": "markdown",
   "metadata": {},
   "source": [
    "Study the convergence rate of the three smallest eigenvalues."
   ]
  },
  {
   "cell_type": "code",
   "execution_count": null,
   "metadata": {},
   "outputs": [],
   "source": [
    "...\n",
    "hs = .5 ** np.arange(9)\n",
    "for h in hs:\n",
    "    ...\n",
    "..."
   ]
  },
  {
   "cell_type": "markdown",
   "metadata": {},
   "source": [
    "## (c)"
   ]
  },
  {
   "cell_type": "markdown",
   "metadata": {},
   "source": [
    "Compute the eigenvectors of the discrete negative Laplacian and compare them with the analytic ones."
   ]
  },
  {
   "cell_type": "code",
   "execution_count": null,
   "metadata": {},
   "outputs": [],
   "source": [
    "h = ...\n",
    "K = assemble_LHS_poisson(createmesh1D(h))\n",
    "..."
   ]
  },
  {
   "cell_type": "markdown",
   "metadata": {},
   "source": [
    "## (d)"
   ]
  },
  {
   "cell_type": "markdown",
   "metadata": {},
   "source": [
    "Derive a weak (Galerkin) formulation for the eigenvalue problem."
   ]
  },
  {
   "cell_type": "markdown",
   "metadata": {},
   "source": [
    "..."
   ]
  },
  {
   "cell_type": "code",
   "execution_count": null,
   "metadata": {},
   "outputs": [],
   "source": []
  },
  {
   "cell_type": "markdown",
   "metadata": {},
   "source": [
    "## (e)"
   ]
  },
  {
   "cell_type": "markdown",
   "metadata": {},
   "source": [
    "Discretize and solve the above Galerkin eigenproblem"
   ]
  },
  {
   "cell_type": "code",
   "execution_count": null,
   "metadata": {},
   "outputs": [],
   "source": []
  }
 ],
 "metadata": {
  "kernelspec": {
   "display_name": "Python 3 (ipykernel)",
   "language": "python",
   "name": "python3"
  },
  "language_info": {
   "codemirror_mode": {
    "name": "ipython",
    "version": 3
   },
   "file_extension": ".py",
   "mimetype": "text/x-python",
   "name": "python",
   "nbconvert_exporter": "python",
   "pygments_lexer": "ipython3",
   "version": "3.10.12"
  }
 },
 "nbformat": 4,
 "nbformat_minor": 4
}
