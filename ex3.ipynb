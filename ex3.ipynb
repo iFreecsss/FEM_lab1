{
 "cells": [
  {
   "cell_type": "markdown",
   "metadata": {},
   "source": [
    "# Problem 3"
   ]
  },
  {
   "cell_type": "markdown",
   "metadata": {},
   "source": [
    "We want to implement P$p$-FEM in 1D, for $p=2$ and $p=3$. For benchmarking, we use a convection-diffusion-reaction equation in 1D:\n",
    "$$\n",
    "    \\begin{cases}\n",
    "        -\\alpha u''+\\beta u'+\\gamma u=f\\quad&\\text{in }\\Omega=(-1,1),\\\\\n",
    "        u(-1)=u_0(-1),\\quad&\\\\\n",
    "        u(1)=u_0(1),\\quad&\\\\\n",
    "    \\end{cases}\n",
    "$$\n",
    "with $f(x)=1-x^2$, $\\alpha=\\beta=1$, $\\gamma=0.1$ and $u_0(x)=0$."
   ]
  },
  {
   "cell_type": "code",
   "execution_count": null,
   "metadata": {},
   "outputs": [],
   "source": [
    "import numpy as np\n",
    "from matplotlib import pyplot as plt"
   ]
  },
  {
   "cell_type": "markdown",
   "metadata": {},
   "source": [
    "## (a)"
   ]
  },
  {
   "cell_type": "markdown",
   "metadata": {},
   "source": [
    "Derive a weak (Galerkin) formulation for the problem."
   ]
  },
  {
   "cell_type": "markdown",
   "metadata": {},
   "source": [
    "* $V=$...\n",
    "* $a(u,v)=$...\n",
    "* $b(v)=$...\n",
    "\n",
    "The problem is well-posed because..."
   ]
  },
  {
   "cell_type": "markdown",
   "metadata": {},
   "source": [
    "## (b)"
   ]
  },
  {
   "cell_type": "markdown",
   "metadata": {},
   "source": [
    "Implement a function that computes the four mesh-related quantities `grid`, `elements`, `endpoints`, and `boundaries`."
   ]
  },
  {
   "cell_type": "code",
   "execution_count": null,
   "metadata": {},
   "outputs": [],
   "source": [
    "def createmesh1D(h, p):\n",
    "    \"\"\"\n",
    "    Function to create mesh stuff with mesh-size h for Pp-FEM.\n",
    "    \"\"\"\n",
    "    ...\n",
    "    return grid, elements, endpoints, boundaries"
   ]
  },
  {
   "cell_type": "code",
   "execution_count": null,
   "metadata": {},
   "outputs": [],
   "source": [
    "# check your implementation of createmesh1D\n",
    "from pickle import load\n",
    "for p in range(1, 4):\n",
    "    data = createmesh1D(0.1, p)\n",
    "    with open(f\"check_createmesh1D_k{p}.pkl\", \"rb\") as f: data_ex = load(f)\n",
    "    print(f\"TESTING {p = }\")\n",
    "    for dat, dat_ex, name in zip(data, data_ex,\n",
    "                                 [\"grid\", \"elements\", \"endpoints\", \"boundaries\"]):\n",
    "        print(f\"'{name}' should be {dat_ex}\\ncomputed '{name}' is {dat}\\n\")"
   ]
  },
  {
   "cell_type": "markdown",
   "metadata": {},
   "source": [
    "## (c)"
   ]
  },
  {
   "cell_type": "markdown",
   "metadata": {},
   "source": [
    "Implement a function that assembles the P$p$-FEM LHS matrix, for $p=1,2,3$."
   ]
  },
  {
   "cell_type": "code",
   "execution_count": null,
   "metadata": {},
   "outputs": [],
   "source": [
    "def assemble_LHS_poisson(mesh, alpha, beta, gamma):\n",
    "    \"\"\"\n",
    "    Function to assemble Pp-FEM LHS.\n",
    "    \"\"\"\n",
    "    grid, elements, endpoints, boundaries = mesh\n",
    "    p = len(elements[0]) - 1\n",
    "    ...\n",
    "    mat = np.zeros((len(grid), len(grid)))\n",
    "    for el in elements: # volume terms (must integrate)\n",
    "        ...\n",
    "    for j, b in zip(endpoints, boundaries): # Dirichlet and Robin BCs\n",
    "        # j is index of DoF, b is boundary flag\n",
    "        ...\n",
    "    return mat"
   ]
  },
  {
   "cell_type": "code",
   "execution_count": null,
   "metadata": {},
   "outputs": [],
   "source": [
    "# check your implementation of assemble_LHS_poisson\n",
    "from pickle import load\n",
    "for p in range(1, 4):\n",
    "    mat = assemble_LHS_poisson(createmesh1D(0.5, p), 1, 1, .1)\n",
    "    with open(f\"check_assemble_LHS_poisson_advection_k{p}.pkl\", \"rb\") as f: mat_ex = load(f)\n",
    "    print(f\"TESTING {p = }\")\n",
    "    print(f\"stiffness matrix should be {mat_ex}\\ncomputed stiffness matrix is {mat}\")"
   ]
  },
  {
   "cell_type": "markdown",
   "metadata": {},
   "source": [
    "## (d)"
   ]
  },
  {
   "cell_type": "markdown",
   "metadata": {},
   "source": [
    "Write a function that assembles the P$p$-FEM RHS vector, for $p=1,2,3$."
   ]
  },
  {
   "cell_type": "code",
   "execution_count": null,
   "metadata": {},
   "outputs": [],
   "source": [
    "def quadrature1D(domain, integrand):\n",
    "    \"\"\"\n",
    "    Function to perform quadrature of callable function integrand over interval specified by domain.\n",
    "        \\int_{domain} integrand(x) dx\n",
    "    You can copy it over from ex 1.\n",
    "    \"\"\"\n",
    "    ...\n",
    "\n",
    "def assemble_RHS_poisson(mesh, u0, f, g):\n",
    "    \"\"\"\n",
    "    Function to assemble Pp-FEM RHS.\n",
    "    \"\"\"\n",
    "    grid, elements, endpoints, boundaries = mesh\n",
    "    p = len(elements[0]) - 1\n",
    "    ...\n",
    "    vec = np.zeros(len(grid))\n",
    "    for el in elements: # volume terms (must integrate)\n",
    "        ...\n",
    "    for j, b in zip(endpoints, boundaries): # all BCs\n",
    "        # j is index of DoF, b is boundary flag\n",
    "        ...\n",
    "    return vec"
   ]
  },
  {
   "cell_type": "code",
   "execution_count": null,
   "metadata": {},
   "outputs": [],
   "source": [
    "# check your implementation of assemble_RHS_poisson\n",
    "from pickle import load\n",
    "for p in range(1, 4):\n",
    "    vec = assemble_RHS_poisson(createmesh1D(0.1, p), lambda x: 0.,\n",
    "                               lambda x: 1 - x ** 2, lambda x: 0.)\n",
    "    with open(f\"check/assemble_RHS_poisson_advection_k{p}.pkl\", \"rb\") as f: vec_ex = load(f)\n",
    "    print(f\"TESTING {p = }\")\n",
    "    print(f\"RHS vector should be {vec_ex}\\ncomputed RHS vector is {vec}\")\n",
    "    print(\"NOTE: results may vary slightly depending on the implemented quadrature formula\")"
   ]
  },
  {
   "cell_type": "markdown",
   "metadata": {},
   "source": [
    "## (e)"
   ]
  },
  {
   "cell_type": "markdown",
   "metadata": {},
   "source": [
    "Compute and plot the P$p$-FE solution for $p=1,2,3$."
   ]
  },
  {
   "cell_type": "code",
   "execution_count": null,
   "metadata": {},
   "outputs": [],
   "source": [
    "def solve_poisson(h, p):\n",
    "    \"\"\"\n",
    "    Function to compute the Pp-FEM solution uh with mesh-size h.\n",
    "    \"\"\"\n",
    "    ...\n",
    "\n",
    "def eval_uh(mesh, uh, x):\n",
    "    \"\"\"\n",
    "    Function to evaluate the Pp-FEM solution uh (based on mesh) at new point(s) x.\n",
    "    \"\"\"\n",
    "    grid, elements, endpoints, boundaries = mesh\n",
    "    p = len(elements[0]) - 1\n",
    "    ...\n",
    "..."
   ]
  },
  {
   "cell_type": "markdown",
   "metadata": {},
   "source": [
    "## (f)"
   ]
  },
  {
   "cell_type": "markdown",
   "metadata": {},
   "source": [
    "Compute the FE error in three different norms."
   ]
  },
  {
   "cell_type": "code",
   "execution_count": null,
   "metadata": {},
   "outputs": [],
   "source": [
    "def eval_uh_prime(mesh, uh, x):\n",
    "    \"\"\"\n",
    "    Function to evaluate the first derivative of P1-FEM solution uh (based on mesh) at new point(s) x.\n",
    "    \"\"\"\n",
    "    grid, elements, endpoints, boundaries = mesh\n",
    "    p = len(elements[0]) - 1\n",
    "    ...\n",
    "..."
   ]
  },
  {
   "cell_type": "markdown",
   "metadata": {},
   "source": [
    "## (g)"
   ]
  },
  {
   "cell_type": "markdown",
   "metadata": {},
   "source": [
    "Solve the problem on a sequence of finer and finer meshes. Identify the convergence rates of the errors and of the FEM matrix's condition number."
   ]
  },
  {
   "cell_type": "code",
   "execution_count": null,
   "metadata": {},
   "outputs": [],
   "source": [
    "...\n",
    "hs = .5 ** np.arange(6)\n",
    "for h in hs:\n",
    "    ...\n",
    "..."
   ]
  },
  {
   "cell_type": "markdown",
   "metadata": {},
   "source": [
    "## (h)"
   ]
  },
  {
   "cell_type": "markdown",
   "metadata": {},
   "source": [
    "The changes would involve..."
   ]
  }
 ],
 "metadata": {
  "kernelspec": {
   "display_name": "Python 3 (ipykernel)",
   "language": "python",
   "name": "python3"
  },
  "language_info": {
   "codemirror_mode": {
    "name": "ipython",
    "version": 3
   },
   "file_extension": ".py",
   "mimetype": "text/x-python",
   "name": "python",
   "nbconvert_exporter": "python",
   "pygments_lexer": "ipython3",
   "version": "3.10.12"
  }
 },
 "nbformat": 4,
 "nbformat_minor": 4
}
