{
 "cells": [
  {
   "cell_type": "markdown",
   "metadata": {},
   "source": [
    "# Problem 4"
   ]
  },
  {
   "cell_type": "markdown",
   "metadata": {},
   "source": [
    "We want to solve a 1D convection-dominated problem:\n",
    "$$\n",
    "    \\begin{cases}\n",
    "        -u''+\\beta u'=0\\quad&\\text{in }\\Omega=(-1,1),\\\\\n",
    "        u(-1)=0,\\quad&\\\\\n",
    "        u(1)=1,\\quad&\\\\\n",
    "    \\end{cases}\n",
    "$$\n",
    "with $\\beta\\in\\mathbb R$. The exact solution is\n",
    "$$\n",
    "    u(x)=\\frac{1-\\exp\\{\\beta(x+1)\\}}{1-\\exp\\{2\\beta\\}}=\\frac{\\exp\\{-2\\beta\\}-\\exp\\{\\beta(x-1)\\}}{\\exp\\{-2\\beta\\}-1}.\n",
    "$$"
   ]
  },
  {
   "cell_type": "code",
   "execution_count": null,
   "metadata": {},
   "outputs": [],
   "source": [
    "import numpy as np\n",
    "from matplotlib import pyplot as plt"
   ]
  },
  {
   "cell_type": "markdown",
   "metadata": {},
   "source": [
    "## (a)"
   ]
  },
  {
   "cell_type": "markdown",
   "metadata": {},
   "source": [
    "Solve the problem for $\\beta=1,10,100$."
   ]
  },
  {
   "cell_type": "code",
   "execution_count": null,
   "metadata": {},
   "outputs": [],
   "source": [
    "def createmesh1D(h, p):\n",
    "    \"\"\"\n",
    "    Function to create mesh stuff with mesh-size h for P1- or Pp-FEM.\n",
    "    You can copy it over from ex 1, 2, or 3.\n",
    "    \"\"\"\n",
    "    ...\n",
    "    return grid, elements, endpoints, boundaries\n",
    "\n",
    "def assemble_LHS_poisson(mesh, alpha, beta, gamma):\n",
    "    \"\"\"\n",
    "    Function to assemble P1- or Pp-FEM LHS.\n",
    "    You can copy it over from ex 1, 2, or 3.\n",
    "    \"\"\"\n",
    "    grid, elements, endpoints, boundaries = mesh\n",
    "    p = len(elements[0]) - 1\n",
    "    ...\n",
    "    mat = np.zeros((len(grid), len(grid)))\n",
    "    for el in elements: # volume terms (must integrate)\n",
    "        ...\n",
    "    for j, b in zip(endpoints, boundaries): # Dirichlet and Robin BCs\n",
    "        # j is index of DoF, b is boundary flag\n",
    "        ...\n",
    "    return mat\n",
    "\n",
    "def quadrature1D(domain, integrand):\n",
    "    \"\"\"\n",
    "    Function to perform quadrature of callable function integrand over interval specified by domain.\n",
    "        \\int_{domain} integrand(x) dx\n",
    "    You can copy it over from ex 1 or 3.\n",
    "    \"\"\"\n",
    "    ...\n",
    "\n",
    "def assemble_RHS_poisson(mesh, u0 = lambda x: 0., f = lambda x: 0., g = lambda x: 0.):\n",
    "    \"\"\"\n",
    "    Function to assemble P1- or Pp-FEM RHS.\n",
    "    You can copy it over from ex 1 or 3.\n",
    "    \"\"\"\n",
    "    grid, elements, endpoints, boundaries = mesh\n",
    "    p = len(elements[0]) - 1\n",
    "    ...\n",
    "    vec = np.zeros(len(grid))\n",
    "    for el in elements: # volume terms (must integrate)\n",
    "        ...\n",
    "    for j, b in zip(endpoints, boundaries): # all BCs\n",
    "        # j is index of DoF, b is boundary flag\n",
    "        ...\n",
    "    return vec"
   ]
  },
  {
   "cell_type": "code",
   "execution_count": null,
   "metadata": {},
   "outputs": [],
   "source": [
    "def solve_poisson(h, beta, p):\n",
    "    \"\"\"\n",
    "    Function to compute the P1- or Pp-FEM solution uh with mesh-size h and beta=beta.\n",
    "    \"\"\"\n",
    "    ...\n",
    "\n",
    "def eval_uh(mesh, uh, x):\n",
    "    \"\"\"\n",
    "    Function to evaluate the P1- or Pp-FEM solution uh (based on mesh) at new point(s) x.\n",
    "    You can copy it over from ex 1 or 3.\n",
    "    \"\"\"\n",
    "    grid, elements, endpoints, boundaries = mesh\n",
    "    p = len(elements[0]) - 1\n",
    "    ...\n",
    "\n",
    "def eval_uh_prime(mesh, uh, x):\n",
    "    \"\"\"\n",
    "    Function to evaluate the first derivative of P1- or Pp-FEM solution uh (based on mesh) at new point(s) x.\n",
    "    You can copy it over from ex 1 or 3.\n",
    "    \"\"\"\n",
    "    grid, elements, endpoints, boundaries = mesh\n",
    "    p = len(elements[0]) - 1\n",
    "    ...\n",
    "...\n",
    "betas = [1., 10., 100.]\n",
    "for beta in betas:\n",
    "    ...\n",
    "..."
   ]
  },
  {
   "cell_type": "markdown",
   "metadata": {},
   "source": [
    "## (b)"
   ]
  },
  {
   "cell_type": "markdown",
   "metadata": {},
   "source": [
    "Compute the condition number of the FEM matrices."
   ]
  },
  {
   "cell_type": "code",
   "execution_count": null,
   "metadata": {},
   "outputs": [],
   "source": [
    "...\n",
    "betas = [1., 10., 100.]\n",
    "for beta in betas:\n",
    "    ...\n",
    "..."
   ]
  },
  {
   "cell_type": "markdown",
   "metadata": {},
   "source": [
    "## (c)"
   ]
  },
  {
   "cell_type": "markdown",
   "metadata": {},
   "source": [
    "Solve the problem on a sequence of finer and finer meshes. Identify the convergence rates of the errors."
   ]
  },
  {
   "cell_type": "code",
   "execution_count": null,
   "metadata": {},
   "outputs": [],
   "source": [
    "...\n",
    "hs = .5 ** np.arange(6)\n",
    "betas = [1., 10., 100.]\n",
    "for beta in betas:\n",
    "    ...\n",
    "    for h in hs:\n",
    "        ...\n",
    "    ...\n",
    "..."
   ]
  },
  {
   "cell_type": "markdown",
   "metadata": {},
   "source": [
    "## (d)"
   ]
  },
  {
   "cell_type": "markdown",
   "metadata": {},
   "source": [
    "Implement a function that computes the three mesh-related quantities `dof_grid`, `element_indices`, and `boundary_flags` for graded meshes."
   ]
  },
  {
   "cell_type": "code",
   "execution_count": null,
   "metadata": {},
   "outputs": [],
   "source": [
    "def createmesh1Dgraded(h, p, eta):\n",
    "    \"\"\"\n",
    "    Function to create graded mesh stuff with mesh-size h for P1- or Pp-FEM.\n",
    "    \"\"\"\n",
    "    ...\n",
    "    return grid, elements, endpoints, boundaries\n",
    "... # plot sample graded mesh"
   ]
  },
  {
   "cell_type": "markdown",
   "metadata": {},
   "source": [
    "## (f)"
   ]
  },
  {
   "cell_type": "markdown",
   "metadata": {},
   "source": [
    "Using graded meshes, solve the problem for $\\beta=1,10,100$. Compute the error convergence rates."
   ]
  },
  {
   "cell_type": "code",
   "execution_count": null,
   "metadata": {},
   "outputs": [],
   "source": [
    "def solve_poisson_graded(h, beta, p):\n",
    "    \"\"\"\n",
    "    Function to compute the P1- or Pp-FEM solution uh on a graded mesh with size h.\n",
    "    \"\"\"\n",
    "    ...\n",
    "...\n",
    "hs = .5 ** np.arange(6)\n",
    "betas = [1., 10., 100.]\n",
    "for beta in betas:\n",
    "    ...\n",
    "    for h in hs:\n",
    "        ...\n",
    "    ...\n",
    "..."
   ]
  },
  {
   "cell_type": "markdown",
   "metadata": {},
   "source": [
    "## (g)"
   ]
  },
  {
   "cell_type": "markdown",
   "metadata": {},
   "source": [
    "Using uniform and graded meshes and P2-FEM, solve the problem for $\\beta=1,10,100$."
   ]
  },
  {
   "cell_type": "code",
   "execution_count": null,
   "metadata": {},
   "outputs": [],
   "source": [
    "...\n",
    "betas = [1., 10., 100.]\n",
    "for beta in betas:\n",
    "    ...\n",
    "..."
   ]
  },
  {
   "cell_type": "markdown",
   "metadata": {},
   "source": [
    "Compute the error convergence rates."
   ]
  },
  {
   "cell_type": "code",
   "execution_count": null,
   "metadata": {},
   "outputs": [],
   "source": [
    "...\n",
    "hs = .5 ** np.arange(6)\n",
    "betas = [1., 10., 100.]\n",
    "for beta in betas:\n",
    "    ...\n",
    "    for h in hs:\n",
    "        ...\n",
    "    ...\n",
    "..."
   ]
  }
 ],
 "metadata": {
  "kernelspec": {
   "display_name": "Python 3 (ipykernel)",
   "language": "python",
   "name": "python3"
  },
  "language_info": {
   "codemirror_mode": {
    "name": "ipython",
    "version": 3
   },
   "file_extension": ".py",
   "mimetype": "text/x-python",
   "name": "python",
   "nbconvert_exporter": "python",
   "pygments_lexer": "ipython3",
   "version": "3.10.12"
  }
 },
 "nbformat": 4,
 "nbformat_minor": 4
}
