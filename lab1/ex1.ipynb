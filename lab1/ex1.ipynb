{
 "cells": [
  {
   "cell_type": "markdown",
   "metadata": {},
   "source": [
    "# Problem 1"
   ]
  },
  {
   "cell_type": "markdown",
   "metadata": {},
   "source": [
    "We want to implement P1-FEM in 1D. For benchmarking, we use a simple Poisson problem in 1D:\n",
    "$$\n",
    "    \\begin{cases}\n",
    "        -u''=f\\quad&\\text{in }\\Omega=(-1,1),\\\\\n",
    "        u(-1)=u_0(-1),\\quad&\\\\\n",
    "        u'(1)=g(1),\\quad&\\\\\n",
    "    \\end{cases}\n",
    "$$\n",
    "with $f(x)=9\\sin(3x+3)$, $u_0(-1)=0$, and $g(1)=3\\cos(6)$. The exact solution is $u(x)=\\sin(3x+3)$."
   ]
  },
  {
   "cell_type": "code",
   "execution_count": 10,
   "metadata": {},
   "outputs": [],
   "source": [
    "import numpy as np\n",
    "from matplotlib import pyplot as plt\n",
    "import sympy as sp"
   ]
  },
  {
   "cell_type": "markdown",
   "metadata": {},
   "source": [
    "## (a)"
   ]
  },
  {
   "cell_type": "markdown",
   "metadata": {},
   "source": [
    "Derive a weak (Galerkin) formulation for the problem."
   ]
  },
  {
   "cell_type": "markdown",
   "metadata": {},
   "source": [
    "* $V=\\{v:\\Omega \\rightarrow \\real, v \\in \\mathcal{H}^1, v(-1)=0 \\}$\n",
    "* $a(u,v)=\\int_{\\Omega}u^{\\prime}(x)v^{\\prime}(x)dx$\n",
    "* $b(v)=\\int_{\\Omega}f(x)v(x)dx + 3*cos(6)*v(1)$"
   ]
  },
  {
   "cell_type": "markdown",
   "metadata": {},
   "source": [
    "# Well-posedness ? \n",
    "\n",
    "We have to prove :\n",
    "\n",
    "1. the problem has a solution\n",
    "2. this solution is unique\n",
    "3. The solution depends continuously on the data and the parameters\n",
    "\n"
   ]
  },
  {
   "cell_type": "markdown",
   "metadata": {},
   "source": [
    "## (b)"
   ]
  },
  {
   "cell_type": "markdown",
   "metadata": {},
   "source": [
    "Implement a function that computes the four mesh-related quantities `grid`, `elements`, `endpoints`, and `boundaries`."
   ]
  },
  {
   "cell_type": "code",
   "execution_count": 11,
   "metadata": {},
   "outputs": [],
   "source": [
    "def createmesh1D(h, domain=(-1, 1)):\n",
    "\n",
    "    a, b = domain\n",
    "    N = int((b - a) / h)\n",
    "    h = (b - a) / N  # Adjust h to ensure integer number of elements\n",
    "    \n",
    "    grid = np.linspace(a, b, N + 1)\n",
    "    elements = [[i, i + 1] for i in range(N)]\n",
    "    endpoints = [0, N]\n",
    "    boundaries = [a, b]\n",
    "    boundaries_bs = [1,2,3]\n",
    "    return grid, elements, endpoints, boundaries, boundaries_bs"
   ]
  },
  {
   "cell_type": "code",
   "execution_count": 12,
   "metadata": {},
   "outputs": [
    {
     "name": "stdout",
     "output_type": "stream",
     "text": [
      "'grid' should be [-1.  -0.9 -0.8 -0.7 -0.6 -0.5 -0.4 -0.3 -0.2 -0.1  0.   0.1  0.2  0.3\n",
      "  0.4  0.5  0.6  0.7  0.8  0.9  1. ]\n",
      "computed 'grid' is [-1.  -0.9 -0.8 -0.7 -0.6 -0.5 -0.4 -0.3 -0.2 -0.1  0.   0.1  0.2  0.3\n",
      "  0.4  0.5  0.6  0.7  0.8  0.9  1. ]\n",
      "\n",
      "'elements' should be [[0, 1], [1, 2], [2, 3], [3, 4], [4, 5], [5, 6], [6, 7], [7, 8], [8, 9], [9, 10], [10, 11], [11, 12], [12, 13], [13, 14], [14, 15], [15, 16], [16, 17], [17, 18], [18, 19], [19, 20]]\n",
      "computed 'elements' is [[0, 1], [1, 2], [2, 3], [3, 4], [4, 5], [5, 6], [6, 7], [7, 8], [8, 9], [9, 10], [10, 11], [11, 12], [12, 13], [13, 14], [14, 15], [15, 16], [16, 17], [17, 18], [18, 19], [19, 20]]\n",
      "\n",
      "'endpoints' should be [0, 20]\n",
      "computed 'endpoints' is [0, 20]\n",
      "\n",
      "'boundaries' should be [1, 1]\n",
      "computed 'boundaries' is [-1, 1]\n",
      "\n"
     ]
    }
   ],
   "source": [
    "# check your implementation of createmesh1D\n",
    "from pickle import load\n",
    "data = createmesh1D(0.1)\n",
    "with open(\"lab1/check/createmesh1D_k1.pkl\", \"rb\") as f: data_ex = load(f)\n",
    "for dat, dat_ex, name in zip(data, data_ex,\n",
    "                             [\"grid\", \"elements\", \"endpoints\", \"boundaries\"]):\n",
    "    print(f\"'{name}' should be {dat_ex}\\ncomputed '{name}' is {dat}\\n\")"
   ]
  },
  {
   "cell_type": "markdown",
   "metadata": {},
   "source": [
    "## (c)"
   ]
  },
  {
   "cell_type": "markdown",
   "metadata": {},
   "source": [
    "Implement a function that assembles the P1-FEM LHS matrix."
   ]
  },
  {
   "cell_type": "code",
   "execution_count": 13,
   "metadata": {},
   "outputs": [],
   "source": [
    "def assemble_LHS_poisson(mesh):\n",
    "    \n",
    "    grid, elements, endpoints, boundaries, boundaries_bs = mesh\n",
    "\n",
    "    K_ref = np.array([[-1., 1.], [1., -1.]])\n",
    "    N=len(grid)\n",
    "    K = np.zeros((N,N))\n",
    "\n",
    "    for el in elements :\n",
    "\n",
    "        i, j = el\n",
    "        h = grid[i] - grid[j]\n",
    "        K_temp =  (1. / h) * K_ref\n",
    "\n",
    "        K[i,i] += K_temp[0,0]\n",
    "        K[i,j] += K_temp[0,1]\n",
    "        K[j,i] += K_temp[1,0]\n",
    "        K[j,j] += K_temp[1,1]\n",
    "    for j, flag in zip(endpoints, boundaries_bs):\n",
    "        if flag == 1:  # Dirichlet\n",
    "            K[j, :] = 0\n",
    "            K[j, j] = 1\n",
    "        elif flag == 3:  # Robin\n",
    "            K[j, j] += 1  # Ajout du terme Robin (à modifier selon la condition exacte)\n",
    "    return K"
   ]
  },
  {
   "cell_type": "code",
   "execution_count": 14,
   "metadata": {},
   "outputs": [
    {
     "name": "stdout",
     "output_type": "stream",
     "text": [
      "stiffness matrix should be [[ 1.  0.  0.  0.  0.]\n",
      " [-2.  4. -2.  0.  0.]\n",
      " [ 0. -2.  4. -2.  0.]\n",
      " [ 0.  0. -2.  4. -2.]\n",
      " [ 0.  0.  0. -2.  2.]]\n",
      "computed stiffness matrix is [[  1.   0.   0.   0.   0.   0.   0.   0.   0.   0.   0.   0.   0.   0.\n",
      "    0.   0.   0.   0.   0.   0.   0.]\n",
      " [-10.  20. -10.   0.   0.   0.   0.   0.   0.   0.   0.   0.   0.   0.\n",
      "    0.   0.   0.   0.   0.   0.   0.]\n",
      " [  0. -10.  20. -10.   0.   0.   0.   0.   0.   0.   0.   0.   0.   0.\n",
      "    0.   0.   0.   0.   0.   0.   0.]\n",
      " [  0.   0. -10.  20. -10.   0.   0.   0.   0.   0.   0.   0.   0.   0.\n",
      "    0.   0.   0.   0.   0.   0.   0.]\n",
      " [  0.   0.   0. -10.  20. -10.   0.   0.   0.   0.   0.   0.   0.   0.\n",
      "    0.   0.   0.   0.   0.   0.   0.]\n",
      " [  0.   0.   0.   0. -10.  20. -10.   0.   0.   0.   0.   0.   0.   0.\n",
      "    0.   0.   0.   0.   0.   0.   0.]\n",
      " [  0.   0.   0.   0.   0. -10.  20. -10.   0.   0.   0.   0.   0.   0.\n",
      "    0.   0.   0.   0.   0.   0.   0.]\n",
      " [  0.   0.   0.   0.   0.   0. -10.  20. -10.   0.   0.   0.   0.   0.\n",
      "    0.   0.   0.   0.   0.   0.   0.]\n",
      " [  0.   0.   0.   0.   0.   0.   0. -10.  20. -10.   0.   0.   0.   0.\n",
      "    0.   0.   0.   0.   0.   0.   0.]\n",
      " [  0.   0.   0.   0.   0.   0.   0.   0. -10.  20. -10.   0.   0.   0.\n",
      "    0.   0.   0.   0.   0.   0.   0.]\n",
      " [  0.   0.   0.   0.   0.   0.   0.   0.   0. -10.  20. -10.   0.   0.\n",
      "    0.   0.   0.   0.   0.   0.   0.]\n",
      " [  0.   0.   0.   0.   0.   0.   0.   0.   0.   0. -10.  20. -10.   0.\n",
      "    0.   0.   0.   0.   0.   0.   0.]\n",
      " [  0.   0.   0.   0.   0.   0.   0.   0.   0.   0.   0. -10.  20. -10.\n",
      "    0.   0.   0.   0.   0.   0.   0.]\n",
      " [  0.   0.   0.   0.   0.   0.   0.   0.   0.   0.   0.   0. -10.  20.\n",
      "  -10.   0.   0.   0.   0.   0.   0.]\n",
      " [  0.   0.   0.   0.   0.   0.   0.   0.   0.   0.   0.   0.   0. -10.\n",
      "   20. -10.   0.   0.   0.   0.   0.]\n",
      " [  0.   0.   0.   0.   0.   0.   0.   0.   0.   0.   0.   0.   0.   0.\n",
      "  -10.  20. -10.   0.   0.   0.   0.]\n",
      " [  0.   0.   0.   0.   0.   0.   0.   0.   0.   0.   0.   0.   0.   0.\n",
      "    0. -10.  20. -10.   0.   0.   0.]\n",
      " [  0.   0.   0.   0.   0.   0.   0.   0.   0.   0.   0.   0.   0.   0.\n",
      "    0.   0. -10.  20. -10.   0.   0.]\n",
      " [  0.   0.   0.   0.   0.   0.   0.   0.   0.   0.   0.   0.   0.   0.\n",
      "    0.   0.   0. -10.  20. -10.   0.]\n",
      " [  0.   0.   0.   0.   0.   0.   0.   0.   0.   0.   0.   0.   0.   0.\n",
      "    0.   0.   0.   0. -10.  20. -10.]\n",
      " [  0.   0.   0.   0.   0.   0.   0.   0.   0.   0.   0.   0.   0.   0.\n",
      "    0.   0.   0.   0.   0. -10.  10.]]\n"
     ]
    }
   ],
   "source": [
    "# check your implementation of assemble_LHS_poisson\n",
    "from pickle import load\n",
    "mat = assemble_LHS_poisson(createmesh1D(0.1))\n",
    "with open(\"lab1/check/assemble_LHS_poisson.pkl\", \"rb\") as f: mat_ex = load(f)\n",
    "print(f\"stiffness matrix should be {mat_ex}\\ncomputed stiffness matrix is {mat}\")"
   ]
  },
  {
   "cell_type": "markdown",
   "metadata": {},
   "source": [
    "## (d)"
   ]
  },
  {
   "cell_type": "markdown",
   "metadata": {},
   "source": [
    "Write a function that assembles the P1-FEM RHS vector."
   ]
  },
  {
   "cell_type": "code",
   "execution_count": 15,
   "metadata": {},
   "outputs": [
    {
     "name": "stderr",
     "output_type": "stream",
     "text": [
      "<>:1: SyntaxWarning: invalid escape sequence '\\i'\n",
      "<>:1: SyntaxWarning: invalid escape sequence '\\i'\n",
      "/tmp/ipykernel_22100/685703123.py:1: SyntaxWarning: invalid escape sequence '\\i'\n",
      "  \"\"\"def quadrature1D(domain, integrand):\n"
     ]
    }
   ],
   "source": [
    "\"\"\"def quadrature1D(domain, integrand):\n",
    "\n",
    "    Function to perform quadrature of callable function integrand over interval specified by domain.\n",
    "        \\int_{domain} integrand(x) dx\n",
    "    \"\"\"\n",
    "\n",
    "def quadrature1D(domain, integrand):\n",
    "\n",
    "    a, b = domain\n",
    "\n",
    "    # Quadrature de Gauss-Legendre, ordre 2\n",
    "    nodes = np.array([-1/np.sqrt(3), 1/np.sqrt(3)])  # Points de Gauss-Legendre\n",
    "    weights = np.array([1, 1])  # Poids associés\n",
    "    transformed_nodes = 0.5 * (b - a) * nodes + 0.5 * (a + b)  # Mapping vers [a, b]\n",
    "    integral = sum(weights[i] * integrand(transformed_nodes[i]) for i in range(2))\n",
    "    return 0.5 * (b - a) * integral  # Facteur de changement de variable\n",
    "    \n",
    "def assemble_RHS_poisson(mesh, u0, f, g):\n",
    "    \"\"\"\n",
    "    Function to assemble P1-FEM RHS.\n",
    "    \"\"\"\n",
    "    grid, elements, endpoints, boundaries = mesh\n",
    "    ...\n",
    "    vec = np.zeros(len(grid))\n",
    "    for el in elements: # volume terms (must integrate)\n",
    "        ...\n",
    "    for j, b in zip(endpoints, boundaries): # all BCs\n",
    "        # j is index of DoF, b is boundary b\n",
    "        ...\n",
    "    return vec"
   ]
  },
  {
   "cell_type": "code",
   "execution_count": 16,
   "metadata": {},
   "outputs": [
    {
     "name": "stdout",
     "output_type": "stream",
     "text": [
      "integral value is 1.\n",
      "user-approximated value is 0.9999999999999999\n",
      "NOTE: results may vary slightly depending on the implemented quadrature formula\n"
     ]
    }
   ],
   "source": [
    "# check your implementation of quadrature1D\n",
    "from pickle import load\n",
    "val = quadrature1D([0., 1.], lambda x: 4 * x ** 3)\n",
    "print(f\"integral value is 1.\\nuser-approximated value is {val}\")\n",
    "print(\"NOTE: results may vary slightly depending on the implemented quadrature formula\")"
   ]
  },
  {
   "cell_type": "code",
   "execution_count": 17,
   "metadata": {},
   "outputs": [
    {
     "name": "stderr",
     "output_type": "stream",
     "text": [
      "/tmp/ipykernel_22100/685703123.py:1: SyntaxWarning: invalid escape sequence '\\i'\n",
      "  \"\"\"def quadrature1D(domain, integrand):\n"
     ]
    },
    {
     "ename": "ValueError",
     "evalue": "too many values to unpack (expected 4)",
     "output_type": "error",
     "traceback": [
      "\u001b[0;31m---------------------------------------------------------------------------\u001b[0m",
      "\u001b[0;31mValueError\u001b[0m                                Traceback (most recent call last)",
      "Cell \u001b[0;32mIn[17], line 3\u001b[0m\n\u001b[1;32m      1\u001b[0m \u001b[38;5;66;03m# check your implementation of assemble_RHS_poisson\u001b[39;00m\n\u001b[1;32m      2\u001b[0m \u001b[38;5;28;01mfrom\u001b[39;00m \u001b[38;5;21;01mpickle\u001b[39;00m \u001b[38;5;28;01mimport\u001b[39;00m load\n\u001b[0;32m----> 3\u001b[0m vec \u001b[38;5;241m=\u001b[39m \u001b[43massemble_RHS_poisson\u001b[49m\u001b[43m(\u001b[49m\u001b[43mcreatemesh1D\u001b[49m\u001b[43m(\u001b[49m\u001b[38;5;241;43m0.1\u001b[39;49m\u001b[43m)\u001b[49m\u001b[43m,\u001b[49m\u001b[43m \u001b[49m\u001b[38;5;28;43;01mlambda\u001b[39;49;00m\u001b[43m \u001b[49m\u001b[43mx\u001b[49m\u001b[43m:\u001b[49m\u001b[43m \u001b[49m\u001b[38;5;241;43m0.\u001b[39;49m\u001b[43m,\u001b[49m\n\u001b[1;32m      4\u001b[0m \u001b[43m                           \u001b[49m\u001b[38;5;28;43;01mlambda\u001b[39;49;00m\u001b[43m \u001b[49m\u001b[43mx\u001b[49m\u001b[43m:\u001b[49m\u001b[43m \u001b[49m\u001b[38;5;241;43m9\u001b[39;49m\u001b[43m \u001b[49m\u001b[38;5;241;43m*\u001b[39;49m\u001b[43m \u001b[49m\u001b[43mnp\u001b[49m\u001b[38;5;241;43m.\u001b[39;49m\u001b[43msin\u001b[49m\u001b[43m(\u001b[49m\u001b[38;5;241;43m3\u001b[39;49m\u001b[43m \u001b[49m\u001b[38;5;241;43m*\u001b[39;49m\u001b[43m \u001b[49m\u001b[43mx\u001b[49m\u001b[43m \u001b[49m\u001b[38;5;241;43m+\u001b[39;49m\u001b[43m \u001b[49m\u001b[38;5;241;43m3\u001b[39;49m\u001b[43m)\u001b[49m\u001b[43m,\u001b[49m\n\u001b[1;32m      5\u001b[0m \u001b[43m                           \u001b[49m\u001b[38;5;28;43;01mlambda\u001b[39;49;00m\u001b[43m \u001b[49m\u001b[43mx\u001b[49m\u001b[43m:\u001b[49m\u001b[43m \u001b[49m\u001b[38;5;241;43m3\u001b[39;49m\u001b[43m \u001b[49m\u001b[38;5;241;43m*\u001b[39;49m\u001b[43m \u001b[49m\u001b[43mnp\u001b[49m\u001b[38;5;241;43m.\u001b[39;49m\u001b[43mcos\u001b[49m\u001b[43m(\u001b[49m\u001b[38;5;241;43m6\u001b[39;49m\u001b[43m)\u001b[49m\u001b[43m)\u001b[49m\n\u001b[1;32m      6\u001b[0m \u001b[38;5;28;01mwith\u001b[39;00m \u001b[38;5;28mopen\u001b[39m(\u001b[38;5;124m\"\u001b[39m\u001b[38;5;124mlab1/check/assemble_RHS_poisson.pkl\u001b[39m\u001b[38;5;124m\"\u001b[39m, \u001b[38;5;124m\"\u001b[39m\u001b[38;5;124mrb\u001b[39m\u001b[38;5;124m\"\u001b[39m) \u001b[38;5;28;01mas\u001b[39;00m f: vec_ex \u001b[38;5;241m=\u001b[39m load(f)\n\u001b[1;32m      7\u001b[0m \u001b[38;5;28mprint\u001b[39m(\u001b[38;5;124mf\u001b[39m\u001b[38;5;124m\"\u001b[39m\u001b[38;5;124mRHS vector should be \u001b[39m\u001b[38;5;132;01m{\u001b[39;00mvec_ex\u001b[38;5;132;01m}\u001b[39;00m\u001b[38;5;130;01m\\n\u001b[39;00m\u001b[38;5;124mcomputed RHS vector is \u001b[39m\u001b[38;5;132;01m{\u001b[39;00mvec\u001b[38;5;132;01m}\u001b[39;00m\u001b[38;5;124m\"\u001b[39m)\n",
      "Cell \u001b[0;32mIn[15], line 22\u001b[0m, in \u001b[0;36massemble_RHS_poisson\u001b[0;34m(mesh, u0, f, g)\u001b[0m\n\u001b[1;32m     18\u001b[0m \u001b[38;5;28;01mdef\u001b[39;00m \u001b[38;5;21massemble_RHS_poisson\u001b[39m(mesh, u0, f, g):\n\u001b[1;32m     19\u001b[0m \u001b[38;5;250m    \u001b[39m\u001b[38;5;124;03m\"\"\"\u001b[39;00m\n\u001b[1;32m     20\u001b[0m \u001b[38;5;124;03m    Function to assemble P1-FEM RHS.\u001b[39;00m\n\u001b[1;32m     21\u001b[0m \u001b[38;5;124;03m    \"\"\"\u001b[39;00m\n\u001b[0;32m---> 22\u001b[0m     grid, elements, endpoints, boundaries \u001b[38;5;241m=\u001b[39m mesh\n\u001b[1;32m     23\u001b[0m     \u001b[38;5;241m.\u001b[39m\u001b[38;5;241m.\u001b[39m\u001b[38;5;241m.\u001b[39m\n\u001b[1;32m     24\u001b[0m     vec \u001b[38;5;241m=\u001b[39m np\u001b[38;5;241m.\u001b[39mzeros(\u001b[38;5;28mlen\u001b[39m(grid))\n",
      "\u001b[0;31mValueError\u001b[0m: too many values to unpack (expected 4)"
     ]
    }
   ],
   "source": [
    "# check your implementation of assemble_RHS_poisson\n",
    "from pickle import load\n",
    "vec = assemble_RHS_poisson(createmesh1D(0.1), lambda x: 0.,\n",
    "                           lambda x: 9 * np.sin(3 * x + 3),\n",
    "                           lambda x: 3 * np.cos(6))\n",
    "with open(\"lab1/check/assemble_RHS_poisson.pkl\", \"rb\") as f: vec_ex = load(f)\n",
    "print(f\"RHS vector should be {vec_ex}\\ncomputed RHS vector is {vec}\")\n",
    "print(\"NOTE: results may vary slightly depending on the implemented quadrature formula\")"
   ]
  },
  {
   "cell_type": "markdown",
   "metadata": {},
   "source": [
    "## (e)"
   ]
  },
  {
   "cell_type": "markdown",
   "metadata": {},
   "source": [
    "Compute and plot the P1-FE solution."
   ]
  },
  {
   "cell_type": "code",
   "execution_count": null,
   "metadata": {},
   "outputs": [],
   "source": [
    "def solve_poisson(h):\n",
    "    \"\"\"\n",
    "    Function to compute the P1-FEM solution uh with mesh-size h.\n",
    "    \"\"\"\n",
    "    ...\n",
    "..."
   ]
  },
  {
   "cell_type": "markdown",
   "metadata": {},
   "source": [
    "Compute the FE error in the $L^\\infty(\\Omega)$ norm"
   ]
  },
  {
   "cell_type": "code",
   "execution_count": null,
   "metadata": {},
   "outputs": [],
   "source": [
    "def eval_uh(mesh, uh, x):\n",
    "    \"\"\"\n",
    "    Function to evaluate the P1-FEM solution uh (based on mesh) at new point(s) x.\n",
    "    \"\"\"\n",
    "    ...\n",
    "..."
   ]
  },
  {
   "cell_type": "markdown",
   "metadata": {},
   "source": [
    "Compute the FE error in the $L^2(\\Omega)$- and $H^1(\\Omega)$-norms."
   ]
  },
  {
   "cell_type": "code",
   "execution_count": null,
   "metadata": {},
   "outputs": [],
   "source": [
    "def eval_uh_prime(mesh, uh, x):\n",
    "    \"\"\"\n",
    "    Function to evaluate the first derivative of the P1-FEM solution uh (based on mesh) at new point(s) x.\n",
    "    \"\"\"\n",
    "    ...\n",
    "..."
   ]
  },
  {
   "cell_type": "markdown",
   "metadata": {},
   "source": [
    "## (f)"
   ]
  },
  {
   "cell_type": "markdown",
   "metadata": {},
   "source": [
    "Solve the problem on a sequence of finer and finer meshes. Identify the convergence rates of the errors."
   ]
  },
  {
   "cell_type": "code",
   "execution_count": null,
   "metadata": {},
   "outputs": [],
   "source": [
    "...\n",
    "hs = .5 ** np.arange(7)\n",
    "for h in hs:\n",
    "    ...\n",
    "..."
   ]
  },
  {
   "cell_type": "markdown",
   "metadata": {},
   "source": [
    "## (g)"
   ]
  },
  {
   "cell_type": "markdown",
   "metadata": {},
   "source": [
    "Solve the problem on a sequence of finer and finer meshes. Identify the convergence rates of the FEM matrix's condition number."
   ]
  },
  {
   "cell_type": "code",
   "execution_count": null,
   "metadata": {},
   "outputs": [],
   "source": [
    "...\n",
    "hs = .5 ** np.arange(7)\n",
    "for h in hs:\n",
    "    ...\n",
    "..."
   ]
  },
  {
   "cell_type": "markdown",
   "metadata": {},
   "source": [
    "## (h)"
   ]
  },
  {
   "cell_type": "markdown",
   "metadata": {},
   "source": [
    "Derive two weak formulations for a modified problem with non-homogeneous Dirichlet BCs."
   ]
  },
  {
   "cell_type": "markdown",
   "metadata": {},
   "source": [
    "1) Petrov-Galerkin\n",
    "    ...\n",
    "\n",
    "2) Lifting.\n",
    "    ..."
   ]
  },
  {
   "cell_type": "markdown",
   "metadata": {},
   "source": [
    "Solve the non-homogeneous problem and study the convergence rates."
   ]
  },
  {
   "cell_type": "code",
   "execution_count": null,
   "metadata": {},
   "outputs": [],
   "source": [
    "def solve_poisson_nonhomogeneous(h):\n",
    "    \"\"\"\n",
    "    Function to compute the P1-FEM solution uh of the problem with non-homogeneous Dirichlet BCs with mesh-size h.\n",
    "    \"\"\"\n",
    "    ...\n",
    "...\n",
    "hs = .5 ** np.arange(7)\n",
    "for h in hs:\n",
    "    ...\n",
    "..."
   ]
  },
  {
   "cell_type": "markdown",
   "metadata": {},
   "source": [
    "## (i)"
   ]
  },
  {
   "cell_type": "markdown",
   "metadata": {},
   "source": [
    "Derive a weak formulation for a modified problem with a Robin BC. Study the convergence rates."
   ]
  },
  {
   "cell_type": "markdown",
   "metadata": {},
   "source": [
    "* $a(u,v)=...$"
   ]
  },
  {
   "cell_type": "code",
   "execution_count": null,
   "metadata": {},
   "outputs": [],
   "source": [
    "def solve_poisson_robin(h):\n",
    "    \"\"\"\n",
    "    Function to compute the P1-FEM solution uh of the problem with Robin BCs with mesh-size h.\n",
    "    \"\"\"\n",
    "    ...\n",
    "...\n",
    "hs = .5 ** np.arange(7)\n",
    "for h in hs:\n",
    "    ...\n",
    "..."
   ]
  },
  {
   "cell_type": "code",
   "execution_count": null,
   "metadata": {},
   "outputs": [],
   "source": []
  }
 ],
 "metadata": {
  "kernelspec": {
   "display_name": "Python 3 (ipykernel)",
   "language": "python",
   "name": "python3"
  },
  "language_info": {
   "codemirror_mode": {
    "name": "ipython",
    "version": 3
   },
   "file_extension": ".py",
   "mimetype": "text/x-python",
   "name": "python",
   "nbconvert_exporter": "python",
   "pygments_lexer": "ipython3",
   "version": "3.12.1"
  }
 },
 "nbformat": 4,
 "nbformat_minor": 4
}
