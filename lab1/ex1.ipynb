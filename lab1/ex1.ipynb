{
 "cells": [
  {
   "cell_type": "markdown",
   "metadata": {},
   "source": [
    "# Problem 1"
   ]
  },
  {
   "cell_type": "markdown",
   "metadata": {},
   "source": [
    "We want to implement P1-FEM in 1D. For benchmarking, we use a simple Poisson problem in 1D:\n",
    "$$\n",
    "    \\begin{cases}\n",
    "        -u''=f\\quad&\\text{in }\\Omega=(-1,1),\\\\\n",
    "        u(-1)=u_0(-1),\\quad&\\\\\n",
    "        u'(1)=g(1),\\quad&\\\\\n",
    "    \\end{cases}\n",
    "$$\n",
    "with $f(x)=9\\sin(3x+3)$, $u_0(-1)=0$, and $g(1)=3\\cos(6)$. The exact solution is $u(x)=\\sin(3x+3)$."
   ]
  },
  {
   "cell_type": "code",
   "execution_count": 1,
   "metadata": {},
   "outputs": [],
   "source": [
    "import numpy as np\n",
    "from matplotlib import pyplot as plt\n",
    "import sympy as sp"
   ]
  },
  {
   "cell_type": "markdown",
   "metadata": {},
   "source": [
    "## (a)"
   ]
  },
  {
   "cell_type": "markdown",
   "metadata": {},
   "source": [
    "Derive a weak (Galerkin) formulation for the problem."
   ]
  },
  {
   "cell_type": "markdown",
   "metadata": {},
   "source": [
    "* $V=...$\n",
    "* $a(u,v)=...$\n",
    "* $b(v)=...$"
   ]
  },
  {
   "cell_type": "markdown",
   "metadata": {},
   "source": [
    "## (b)"
   ]
  },
  {
   "cell_type": "markdown",
   "metadata": {},
   "source": [
    "Implement a function that computes the four mesh-related quantities `grid`, `elements`, `endpoints`, and `boundaries`."
   ]
  },
  {
   "cell_type": "code",
   "execution_count": 2,
   "metadata": {},
   "outputs": [],
   "source": [
    "def createmesh1D(h):\n",
    "    \"\"\"\n",
    "    Function to create mesh stuff with mesh-size h for P1-FEM.\n",
    "    \"\"\"\n",
    "    ...\n",
    "    return grid, elements, endpoints, boundaries"
   ]
  },
  {
   "cell_type": "code",
   "execution_count": 3,
   "metadata": {},
   "outputs": [
    {
     "ename": "NameError",
     "evalue": "name 'grid' is not defined",
     "output_type": "error",
     "traceback": [
      "\u001b[0;31m---------------------------------------------------------------------------\u001b[0m",
      "\u001b[0;31mNameError\u001b[0m                                 Traceback (most recent call last)",
      "Cell \u001b[0;32mIn[3], line 3\u001b[0m\n\u001b[1;32m      1\u001b[0m \u001b[38;5;66;03m# check your implementation of createmesh1D\u001b[39;00m\n\u001b[1;32m      2\u001b[0m \u001b[38;5;28;01mfrom\u001b[39;00m \u001b[38;5;21;01mpickle\u001b[39;00m \u001b[38;5;28;01mimport\u001b[39;00m load\n\u001b[0;32m----> 3\u001b[0m data \u001b[38;5;241m=\u001b[39m \u001b[43mcreatemesh1D\u001b[49m\u001b[43m(\u001b[49m\u001b[38;5;241;43m0.1\u001b[39;49m\u001b[43m)\u001b[49m\n\u001b[1;32m      4\u001b[0m \u001b[38;5;28;01mwith\u001b[39;00m \u001b[38;5;28mopen\u001b[39m(\u001b[38;5;124m\"\u001b[39m\u001b[38;5;124mcheck/createmesh1D_k1.pkl\u001b[39m\u001b[38;5;124m\"\u001b[39m, \u001b[38;5;124m\"\u001b[39m\u001b[38;5;124mrb\u001b[39m\u001b[38;5;124m\"\u001b[39m) \u001b[38;5;28;01mas\u001b[39;00m f: data_ex \u001b[38;5;241m=\u001b[39m load(f)\n\u001b[1;32m      5\u001b[0m \u001b[38;5;28;01mfor\u001b[39;00m dat, dat_ex, name \u001b[38;5;129;01min\u001b[39;00m \u001b[38;5;28mzip\u001b[39m(data, data_ex,\n\u001b[1;32m      6\u001b[0m                              [\u001b[38;5;124m\"\u001b[39m\u001b[38;5;124mgrid\u001b[39m\u001b[38;5;124m\"\u001b[39m, \u001b[38;5;124m\"\u001b[39m\u001b[38;5;124melements\u001b[39m\u001b[38;5;124m\"\u001b[39m, \u001b[38;5;124m\"\u001b[39m\u001b[38;5;124mendpoints\u001b[39m\u001b[38;5;124m\"\u001b[39m, \u001b[38;5;124m\"\u001b[39m\u001b[38;5;124mboundaries\u001b[39m\u001b[38;5;124m\"\u001b[39m]):\n",
      "Cell \u001b[0;32mIn[2], line 6\u001b[0m, in \u001b[0;36mcreatemesh1D\u001b[0;34m(h)\u001b[0m\n\u001b[1;32m      2\u001b[0m \u001b[38;5;250m\u001b[39m\u001b[38;5;124;03m\"\"\"\u001b[39;00m\n\u001b[1;32m      3\u001b[0m \u001b[38;5;124;03mFunction to create mesh stuff with mesh-size h for P1-FEM.\u001b[39;00m\n\u001b[1;32m      4\u001b[0m \u001b[38;5;124;03m\"\"\"\u001b[39;00m\n\u001b[1;32m      5\u001b[0m \u001b[38;5;241m.\u001b[39m\u001b[38;5;241m.\u001b[39m\u001b[38;5;241m.\u001b[39m\n\u001b[0;32m----> 6\u001b[0m \u001b[38;5;28;01mreturn\u001b[39;00m \u001b[43mgrid\u001b[49m, elements, endpoints, boundaries\n",
      "\u001b[0;31mNameError\u001b[0m: name 'grid' is not defined"
     ]
    }
   ],
   "source": [
    "# check your implementation of createmesh1D\n",
    "from pickle import load\n",
    "data = createmesh1D(0.1)\n",
    "with open(\"check/createmesh1D_k1.pkl\", \"rb\") as f: data_ex = load(f)\n",
    "for dat, dat_ex, name in zip(data, data_ex,\n",
    "                             [\"grid\", \"elements\", \"endpoints\", \"boundaries\"]):\n",
    "    print(f\"'{name}' should be {dat_ex}\\ncomputed '{name}' is {dat}\\n\")"
   ]
  },
  {
   "cell_type": "markdown",
   "metadata": {},
   "source": [
    "## (c)"
   ]
  },
  {
   "cell_type": "markdown",
   "metadata": {},
   "source": [
    "Implement a function that assembles the P1-FEM LHS matrix."
   ]
  },
  {
   "cell_type": "code",
   "execution_count": null,
   "metadata": {},
   "outputs": [],
   "source": [
    "def assemble_LHS_poisson(mesh):\n",
    "    \"\"\"\n",
    "    Function to assemble P1-FEM LHS.\n",
    "    \"\"\"\n",
    "    grid, elements, endpoints, boundaries = mesh\n",
    "    ...\n",
    "    mat = np.zeros((len(grid), len(grid)))\n",
    "    for el in elements: # volume terms (must integrate)\n",
    "        ...\n",
    "    for j, b in zip(endpoints, boundaries): # Dirichlet and Robin BCs\n",
    "        # j is index of DoF, b is boundary flag\n",
    "        ...\n",
    "    return mat"
   ]
  },
  {
   "cell_type": "code",
   "execution_count": null,
   "metadata": {},
   "outputs": [],
   "source": [
    "# check your implementation of assemble_LHS_poisson\n",
    "from pickle import load\n",
    "mat = assemble_LHS_poisson(createmesh1D(0.1))\n",
    "with open(\"check/assemble_LHS_poisson.pkl\", \"rb\") as f: mat_ex = load(f)\n",
    "print(f\"stiffness matrix should be {mat_ex}\\ncomputed stiffness matrix is {mat}\")"
   ]
  },
  {
   "cell_type": "markdown",
   "metadata": {},
   "source": [
    "## (d)"
   ]
  },
  {
   "cell_type": "markdown",
   "metadata": {},
   "source": [
    "Write a function that assembles the P1-FEM RHS vector."
   ]
  },
  {
   "cell_type": "code",
   "execution_count": null,
   "metadata": {},
   "outputs": [],
   "source": [
    "def quadrature1D(domain, integrand):\n",
    "    \"\"\"\n",
    "    Function to perform quadrature of callable function integrand over interval specified by domain.\n",
    "        \\int_{domain} integrand(x) dx\n",
    "    \"\"\"\n",
    "    ...\n",
    "\n",
    "def assemble_RHS_poisson(mesh, u0, f, g):\n",
    "    \"\"\"\n",
    "    Function to assemble P1-FEM RHS.\n",
    "    \"\"\"\n",
    "    grid, elements, endpoints, boundaries = mesh\n",
    "    ...\n",
    "    vec = np.zeros(len(grid))\n",
    "    for el in elements: # volume terms (must integrate)\n",
    "        ...\n",
    "    for j, b in zip(endpoints, boundaries): # all BCs\n",
    "        # j is index of DoF, b is boundary flag\n",
    "        ...\n",
    "    return vec"
   ]
  },
  {
   "cell_type": "code",
   "execution_count": null,
   "metadata": {},
   "outputs": [],
   "source": [
    "# check your implementation of quadrature1D\n",
    "from pickle import load\n",
    "val = quadrature1D([0., 1.], lambda x: 4 * x ** 3)\n",
    "print(f\"integral value is 1.\\nuser-approximated value is {val}\")\n",
    "print(\"NOTE: results may vary slightly depending on the implemented quadrature formula\")"
   ]
  },
  {
   "cell_type": "code",
   "execution_count": null,
   "metadata": {},
   "outputs": [],
   "source": [
    "# check your implementation of assemble_RHS_poisson\n",
    "from pickle import load\n",
    "vec = assemble_RHS_poisson(createmesh1D(0.1), lambda x: 0.,\n",
    "                           lambda x: 9 * np.sin(3 * x + 3),\n",
    "                           lambda x: 3 * np.cos(6))\n",
    "with open(\"check/assemble_RHS_poisson.pkl\", \"rb\") as f: vec_ex = load(f)\n",
    "print(f\"RHS vector should be {vec_ex}\\ncomputed RHS vector is {vec}\")\n",
    "print(\"NOTE: results may vary slightly depending on the implemented quadrature formula\")"
   ]
  },
  {
   "cell_type": "markdown",
   "metadata": {},
   "source": [
    "## (e)"
   ]
  },
  {
   "cell_type": "markdown",
   "metadata": {},
   "source": [
    "Compute and plot the P1-FE solution."
   ]
  },
  {
   "cell_type": "code",
   "execution_count": null,
   "metadata": {},
   "outputs": [],
   "source": [
    "def solve_poisson(h):\n",
    "    \"\"\"\n",
    "    Function to compute the P1-FEM solution uh with mesh-size h.\n",
    "    \"\"\"\n",
    "    ...\n",
    "..."
   ]
  },
  {
   "cell_type": "markdown",
   "metadata": {},
   "source": [
    "Compute the FE error in the $L^\\infty(\\Omega)$ norm"
   ]
  },
  {
   "cell_type": "code",
   "execution_count": null,
   "metadata": {},
   "outputs": [],
   "source": [
    "def eval_uh(mesh, uh, x):\n",
    "    \"\"\"\n",
    "    Function to evaluate the P1-FEM solution uh (based on mesh) at new point(s) x.\n",
    "    \"\"\"\n",
    "    ...\n",
    "..."
   ]
  },
  {
   "cell_type": "markdown",
   "metadata": {},
   "source": [
    "Compute the FE error in the $L^2(\\Omega)$- and $H^1(\\Omega)$-norms."
   ]
  },
  {
   "cell_type": "code",
   "execution_count": null,
   "metadata": {},
   "outputs": [],
   "source": [
    "def eval_uh_prime(mesh, uh, x):\n",
    "    \"\"\"\n",
    "    Function to evaluate the first derivative of the P1-FEM solution uh (based on mesh) at new point(s) x.\n",
    "    \"\"\"\n",
    "    ...\n",
    "..."
   ]
  },
  {
   "cell_type": "markdown",
   "metadata": {},
   "source": [
    "## (f)"
   ]
  },
  {
   "cell_type": "markdown",
   "metadata": {},
   "source": [
    "Solve the problem on a sequence of finer and finer meshes. Identify the convergence rates of the errors."
   ]
  },
  {
   "cell_type": "code",
   "execution_count": null,
   "metadata": {},
   "outputs": [],
   "source": [
    "...\n",
    "hs = .5 ** np.arange(7)\n",
    "for h in hs:\n",
    "    ...\n",
    "..."
   ]
  },
  {
   "cell_type": "markdown",
   "metadata": {},
   "source": [
    "## (g)"
   ]
  },
  {
   "cell_type": "markdown",
   "metadata": {},
   "source": [
    "Solve the problem on a sequence of finer and finer meshes. Identify the convergence rates of the FEM matrix's condition number."
   ]
  },
  {
   "cell_type": "code",
   "execution_count": null,
   "metadata": {},
   "outputs": [],
   "source": [
    "...\n",
    "hs = .5 ** np.arange(7)\n",
    "for h in hs:\n",
    "    ...\n",
    "..."
   ]
  },
  {
   "cell_type": "markdown",
   "metadata": {},
   "source": [
    "## (h)"
   ]
  },
  {
   "cell_type": "markdown",
   "metadata": {},
   "source": [
    "Derive two weak formulations for a modified problem with non-homogeneous Dirichlet BCs."
   ]
  },
  {
   "cell_type": "markdown",
   "metadata": {},
   "source": [
    "1) Petrov-Galerkin\n",
    "    ...\n",
    "\n",
    "2) Lifting.\n",
    "    ..."
   ]
  },
  {
   "cell_type": "markdown",
   "metadata": {},
   "source": [
    "Solve the non-homogeneous problem and study the convergence rates."
   ]
  },
  {
   "cell_type": "code",
   "execution_count": null,
   "metadata": {},
   "outputs": [],
   "source": [
    "def solve_poisson_nonhomogeneous(h):\n",
    "    \"\"\"\n",
    "    Function to compute the P1-FEM solution uh of the problem with non-homogeneous Dirichlet BCs with mesh-size h.\n",
    "    \"\"\"\n",
    "    ...\n",
    "...\n",
    "hs = .5 ** np.arange(7)\n",
    "for h in hs:\n",
    "    ...\n",
    "..."
   ]
  },
  {
   "cell_type": "markdown",
   "metadata": {},
   "source": [
    "## (i)"
   ]
  },
  {
   "cell_type": "markdown",
   "metadata": {},
   "source": [
    "Derive a weak formulation for a modified problem with a Robin BC. Study the convergence rates."
   ]
  },
  {
   "cell_type": "markdown",
   "metadata": {},
   "source": [
    "* $a(u,v)=...$"
   ]
  },
  {
   "cell_type": "code",
   "execution_count": null,
   "metadata": {},
   "outputs": [],
   "source": [
    "def solve_poisson_robin(h):\n",
    "    \"\"\"\n",
    "    Function to compute the P1-FEM solution uh of the problem with Robin BCs with mesh-size h.\n",
    "    \"\"\"\n",
    "    ...\n",
    "...\n",
    "hs = .5 ** np.arange(7)\n",
    "for h in hs:\n",
    "    ...\n",
    "..."
   ]
  },
  {
   "cell_type": "code",
   "execution_count": null,
   "metadata": {},
   "outputs": [],
   "source": []
  }
 ],
 "metadata": {
  "kernelspec": {
   "display_name": "Python 3 (ipykernel)",
   "language": "python",
   "name": "python3"
  },
  "language_info": {
   "codemirror_mode": {
    "name": "ipython",
    "version": 3
   },
   "file_extension": ".py",
   "mimetype": "text/x-python",
   "name": "python",
   "nbconvert_exporter": "python",
   "pygments_lexer": "ipython3",
   "version": "3.12.1"
  }
 },
 "nbformat": 4,
 "nbformat_minor": 4
}
