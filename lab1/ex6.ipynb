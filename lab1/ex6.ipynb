{
 "cells": [
  {
   "cell_type": "markdown",
   "metadata": {},
   "source": [
    "# Problem 6"
   ]
  },
  {
   "cell_type": "markdown",
   "metadata": {},
   "source": [
    "We want to implement P1-FEM for a general advection-diffusion-reaction problem in 2D:\n",
    "$$\n",
    "    \\begin{cases}\n",
    "        -\\textup{div}\\left(\\textup{A}\\nabla u\\right)+\\beta\\cdot\\left(\\nabla u\\right)+\\gamma u=f\\quad&\\text{in }\\Omega=(0,1)\\times(0,1),\\\\\n",
    "        u=0,\\quad&\\text{on }\\Gamma_D=(\\{0\\}\\times(0,1))\\cup((0,1)\\times\\{0,1\\}),\\\\\n",
    "        \\left(\\textup{A}\\nabla u\\right)\\cdot\\nu=g,\\quad&\\text{on }\\Gamma_N=\\{1\\}\\times(0,1),\\\\\n",
    "    \\end{cases}\n",
    "$$\n",
    "with\n",
    "$$\n",
    "    f(x,y)=100\\exp\\left\\{-50\\left((x-0.2)^2+(y-0.3)^2\\right)\\right\\},\\ g(x,y)=0,\n",
    "$$\n",
    "$$\n",
    "    \\textup{A}=\\begin{bmatrix}\n",
    "            0.2&-0.01\\\\-0.01&0.2\n",
    "    \\end{bmatrix},\\ \\beta=\\begin{bmatrix}\n",
    "            3\\\\0.3\n",
    "    \\end{bmatrix},\\ \\text{and}\\ \\gamma=0.05.\n",
    "$$"
   ]
  },
  {
   "cell_type": "code",
   "execution_count": null,
   "metadata": {},
   "outputs": [],
   "source": [
    "import numpy as np\n",
    "from matplotlib import pyplot as plt"
   ]
  },
  {
   "cell_type": "markdown",
   "metadata": {},
   "source": [
    "## (a)"
   ]
  },
  {
   "cell_type": "markdown",
   "metadata": {},
   "source": [
    "Derive a weak (Galerkin) formulation for the problem."
   ]
  },
  {
   "cell_type": "markdown",
   "metadata": {},
   "source": [
    "* $V=$...\n",
    "* $a(u,v)=$...\n",
    "* $b(v)=$...\n",
    "\n",
    "The problem is well-posed because..."
   ]
  },
  {
   "cell_type": "markdown",
   "metadata": {},
   "source": [
    "## (b)"
   ]
  },
  {
   "cell_type": "code",
   "execution_count": null,
   "metadata": {},
   "outputs": [],
   "source": [
    "# Modify createmesh2D to make the top boundary Dirichlet.\n",
    "def createmesh2D(h, Omega=(0, 1)):\n",
    "    \"\"\"\n",
    "    This function (copied from ex 5) creates a mesh, flagging the bottom and left\n",
    "    boundaries as Dirichlet and the top and right boundaries as Neumann.\n",
    "    !!!!Modify this function to make the top boundary Dirichlet!!!!\n",
    "    \"\"\"\n",
    "    L = Omega[1] - Omega[0] # square side length\n",
    "    N = int(np.ceil(L / h)) # number of cells per side\n",
    "\n",
    "    grid_1d = np.linspace(*Omega, N + 1)\n",
    "    grid = np.stack((np.tile(grid_1d, N + 1),  # mesh vertices, sorted from left to right, from bottom to top\n",
    "                     np.repeat(grid_1d, N + 1)), axis = 1)\n",
    "\n",
    "    elements = [[(N + 1) * j + i, # all elements whose right angle corner is on the bottom left\n",
    "                 (N + 1) * j + i + 1,\n",
    "                 (N + 1) * (j + 1) + i] for j in range(N) for i in range(N)]\n",
    "    elements += [[(N + 1) * (j + 1) + i + 1, # all elements whose right angle corner is on the top right\n",
    "                  (N + 1) * (j + 1) + i,\n",
    "                  (N + 1) * j + i + 1] for j in range(N) for i in range(N)]\n",
    "\n",
    "    edges = [[(N + 1) * (N - j), (N + 1) * (N - j - 1)] for j in range(N)] # left side\n",
    "    edges += [[j, j + 1] for j in range(N)] # bottom side\n",
    "    edges += [[(N + 1) * (j + 1) - 1, (N + 1) * (j + 2) - 1] for j in range(N)] # right side\n",
    "    edges += [[(N + 1) * (N + 1) - 1 - j, (N + 1) * (N + 1) - 2 - j] for j in range(N)] # top side\n",
    "\n",
    "    boundaries = [1] * (2 * N) + [2] * (2 * N)\n",
    "    return grid, elements, edges, boundaries\n",
    "\n",
    "grid, elements, edges, boundaries = createmesh2D(.25)\n",
    "print(f\"{grid = }\\n\\n{elements = }\\n\\n{edges = }\\n\\n{boundaries = }\")\n",
    "\n",
    "plt.figure()\n",
    "for j, pt in enumerate(grid):\n",
    "    plt.text(* pt, f\"DoF {j}\")\n",
    "for j, el in enumerate(elements):\n",
    "    plt.plot([grid[i, 0] for i in el + [el[0]]],\n",
    "             [grid[i, 1] for i in el + [el[0]]], 'c')\n",
    "    plt.text((2 * grid[el[0], 0] + grid[el[1], 0]) / 3, \n",
    "             (2 * grid[el[0], 1] + grid[el[2], 1]) / 3,\n",
    "             f\"elem {j}\", ha=\"center\", va=\"center\")\n",
    "for ed, d in zip(edges, boundaries):\n",
    "    color = \"k\" if d == 1 else \"b\"\n",
    "    plt.plot([grid[i, 0] for i in ed],\n",
    "             [grid[i, 1] for i in ed], color + \"-\")\n",
    "plt.plot(*grid.T, 'go')\n",
    "plt.xlim(-.01, 1.01), plt.ylim(-.01, 1.01)\n",
    "plt.xlabel(\"x\"), plt.ylabel(\"y\")\n",
    "plt.show()"
   ]
  },
  {
   "cell_type": "code",
   "execution_count": null,
   "metadata": {},
   "outputs": [],
   "source": [
    "def assemble_LHS_poisson(mesh, A, beta, gamma):\n",
    "    \"\"\"\n",
    "    Function to assemble P1-FEM LHS.\n",
    "    \"\"\"\n",
    "    grid, elements, edges, boundaries = mesh\n",
    "    ...\n",
    "    mat = np.zeros((len(grid), len(grid)))\n",
    "    for el in elements: # volume terms (must integrate in 2D)\n",
    "        ...\n",
    "    for ed, b in zip(edges, boundaries): # Dirichlet BCs (easy) or Robin BCs (must integrate in 1D)\n",
    "        # ed is an edge (i.e., a pair of DoF indices), b is boundary flag\n",
    "        ...\n",
    "    return mat"
   ]
  },
  {
   "cell_type": "code",
   "execution_count": null,
   "metadata": {},
   "outputs": [],
   "source": [
    "# check your implementation of assemble_LHS_poisson\n",
    "from pickle import dump, load\n",
    "mat = assemble_LHS_poisson(createmesh2D(0.5), np.array([[5, -1], [-1, 4]]),\n",
    "                           np.array([-1, 2]), 0.3)\n",
    "with open(\"../check/assemble_LHS_poisson_2D_advection.pkl\", \"rb\") as f: mat_ex = load(f)\n",
    "print(f\"stiffness matrix should be {mat_ex}\\ncomputed stiffness matrix is {mat}\")"
   ]
  },
  {
   "cell_type": "code",
   "execution_count": null,
   "metadata": {},
   "outputs": [],
   "source": [
    "# quadrature1D is needed (also by assemble_RHS_poisson) to implement natural (Neumann&Robin) BCs\n",
    "def quadrature1D(domain, integrand):\n",
    "    \"\"\"\n",
    "    Function to perform quadrature of callable function integrand over interval specified by domain.\n",
    "    Note: here domain is a straight line segment in 2D.\n",
    "    For instance, domain = [(x0, y0), (x1, y1)], the line segment's endpoints.\n",
    "    Then a possible parametrization of the line segment is\n",
    "        t -> (x(t), y(t)) := (x0, y0) + t * (x1 - x0, y1 - y0)\n",
    "        t \\in [0,1]\n",
    "    We want to approximate\n",
    "        \\int_0^1 integrand(x(t), y(t)) * JAC * dt\n",
    "    with JAC = ||(x1 - x0, y1 - y0)||.\n",
    "    You can copy it over from ex 5.\n",
    "    \"\"\"\n",
    "    ...\n",
    "\n",
    "def quadrature2D(domain, integrand):\n",
    "    \"\"\"\n",
    "    Function to perform quadrature of callable function integrand over simplices specified by domain.\n",
    "    Note: here domain is a straight line segment in 2D.\n",
    "    For instance, domain = [(x0, y0), (x1, y1), (x2, y2)], simplex's vertices.\n",
    "    Then a possible parametrization of the simplex is\n",
    "        (s, t) -> (x(s, t), y(s, t)) := (x0, y0) + s * (x1 - x0, y1 - y0) + t * (x2 - x0, y2 - y0),\n",
    "        (s, t) such that 0 <= s <= 1 and 0 <= t <= 1 - s\n",
    "    We want to approximate\n",
    "        \\int_0^1\\int_0^{1-s} integrand(x(s, t), y(s, t)) * det(JAC) * dt * ds\n",
    "    with det(JAC) = ||(x1 - x0, y1 - y0)||*||(x2 - x0, y2 - y0)||.\n",
    "    You can copy it over from ex 5.\n",
    "    \"\"\"\n",
    "    ...\n",
    "\n",
    "def assemble_RHS_poisson(mesh, u0, f, g):\n",
    "    \"\"\"\n",
    "    Function to assemble P1-FEM RHS.\n",
    "    You can copy it over from ex 5.\n",
    "    \"\"\"\n",
    "    grid, elements, edges, boundaries = mesh\n",
    "    ...\n",
    "    vec = np.zeros(len(grid))\n",
    "    for el in elements: # volume terms (must integrate in 2D)\n",
    "        ...\n",
    "    for ed, b in zip(edges, boundaries): # Dirichlet BCs (easy) or natural BCs (must integrate in 1D)\n",
    "        # ed is an edge (i.e., a pair of DoF indices), b is boundary flag\n",
    "        ...\n",
    "    return vec"
   ]
  },
  {
   "cell_type": "markdown",
   "metadata": {},
   "source": [
    "Compute and plot the P1-FE solution."
   ]
  },
  {
   "cell_type": "code",
   "execution_count": null,
   "metadata": {},
   "outputs": [],
   "source": [
    "def solve_poisson(h):\n",
    "    \"\"\"\n",
    "    Function to compute the P1-FEM solution uh with mesh-size h.\n",
    "    \"\"\"\n",
    "    ...\n",
    "\n",
    "def find_parent_element(h, x, Omega=(0, 1)):\n",
    "    \"\"\"\n",
    "    Find the index of the element to which x belongs. x can be a single 2D point, or an array of points, with shape (M by 2).\n",
    "    h is the mesh size used to generate the mesh over Omega, using the provided function.\n",
    "    \"\"\"\n",
    "    x = np.asarray(x) # ensure x has the right format and shape\n",
    "    if x.ndim == 1: x = x[np.newaxis, :]\n",
    "    \n",
    "    assert np.all(np.logical_and(*[np.logical_and(x[:, j] >= Omega[0],\n",
    "                                                  x[:, j] <= Omega[1])\n",
    "                                   for j in range(2)])), \"some points are outside the domain\"\n",
    "\n",
    "    L = Omega[1] - Omega[0] # square side length\n",
    "    N = int(np.ceil(L / h)) # number of cells per side\n",
    "\n",
    "    vertices_1d = np.linspace(*Omega, N + 1)\n",
    "    h_eff = vertices_1d[1] - vertices_1d[0] # actual grid size (after rounding of N)\n",
    "\n",
    "    # find cartesian indices of x, i.e., indices of its square cell\n",
    "    find_x = sum([x[:, 0] > v for v in vertices_1d[1 :]])\n",
    "    find_y = sum([x[:, 1] > v for v in vertices_1d[1 :]])\n",
    "    idx_elements = N * find_y + find_x\n",
    "\n",
    "    # now check if x belongs to bottom-left- or top-right-pointing triangles\n",
    "    x_flip = x[:, 0] + x[:, 1] > h_eff + vertices_1d[find_x] + vertices_1d[find_y]\n",
    "    idx_elements[x_flip] += N ** 2\n",
    "    return idx_elements\n",
    "\n",
    "def eval_uh(mesh, uh, x):\n",
    "    \"\"\"\n",
    "    Function to evaluate the P1-FEM solution uh (based on mesh) at new point(s) x.\n",
    "    \"\"\"\n",
    "    grid, elements, edges, boundaries = mesh\n",
    "    h = ...\n",
    "    Omega = ...\n",
    "    idx_elements = find_parent_element(h, Omega, x)\n",
    "    ...\n",
    "\n",
    "def eval_uh_prime(mesh, uh, x):\n",
    "    \"\"\"\n",
    "    Function to evaluate the first derivative of P1-FEM solution uh (based on mesh) at new point(s) x.\n",
    "    \"\"\"\n",
    "    grid, elements, edges, boundaries = mesh\n",
    "    h = ...\n",
    "    Omega = ...\n",
    "    idx_elements = find_parent_element(h, Omega, x)\n",
    "    ...\n",
    "..."
   ]
  },
  {
   "cell_type": "markdown",
   "metadata": {},
   "source": [
    "## (c)"
   ]
  },
  {
   "cell_type": "markdown",
   "metadata": {},
   "source": [
    "Solve the problem with stronger advection terms."
   ]
  },
  {
   "cell_type": "code",
   "execution_count": null,
   "metadata": {},
   "outputs": [],
   "source": [
    "def solve_poisson(h):\n",
    "    \"\"\"\n",
    "    Function to compute the P1-FEM solution uh with mesh-size h and increased flow speed beta.\n",
    "    \"\"\"\n",
    "    ...\n",
    "..."
   ]
  }
 ],
 "metadata": {
  "kernelspec": {
   "display_name": "Python 3 (ipykernel)",
   "language": "python",
   "name": "python3"
  },
  "language_info": {
   "codemirror_mode": {
    "name": "ipython",
    "version": 3
   },
   "file_extension": ".py",
   "mimetype": "text/x-python",
   "name": "python",
   "nbconvert_exporter": "python",
   "pygments_lexer": "ipython3",
   "version": "3.10.12"
  }
 },
 "nbformat": 4,
 "nbformat_minor": 4
}
